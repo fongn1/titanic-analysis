{
  "nbformat": 4,
  "nbformat_minor": 0,
  "metadata": {
    "colab": {
      "provenance": [],
      "authorship_tag": "ABX9TyPSlKaLrz+dVQIJ5ByRZCBJ",
      "include_colab_link": true
    },
    "kernelspec": {
      "name": "python3",
      "display_name": "Python 3"
    },
    "language_info": {
      "name": "python"
    }
  },
  "cells": [
    {
      "cell_type": "markdown",
      "metadata": {
        "id": "view-in-github",
        "colab_type": "text"
      },
      "source": [
        "<a href=\"https://colab.research.google.com/github/fongn1/titanic-analysis/blob/main/%E3%80%8C2025_Task_04_%E4%BD%9C%E6%A5%AD_01_ipynb%E3%80%8D.ipynb\" target=\"_parent\"><img src=\"https://colab.research.google.com/assets/colab-badge.svg\" alt=\"Open In Colab\"/></a>"
      ]
    },
    {
      "cell_type": "code",
      "source": [
        "import pandas as pd\n",
        "from sklearn.linear_model import LogisticRegression\n",
        "from sklearn.model_selection import cross_val_score\n",
        "\n",
        "# 載入資料集\n",
        "df_train = pd.read_csv('https://raw.githubusercontent.com/dsindy/kaggle-titanic/master/data/train.csv')\n",
        "\n",
        "# --- 定義評估模型準確度的函式 ---\n",
        "def evaluate_model(df):\n",
        "    \"\"\"\n",
        "    這個函式會接收一個 DataFrame，並使用交叉驗證評估 Logistic Regression 模型的準確度。\n",
        "    \"\"\"\n",
        "    # 選擇特徵欄位和目標欄位\n",
        "    columns_X = df.drop(['PassengerId', 'Name', 'Ticket', 'Survived'], axis=1).columns\n",
        "    columns_y = ['Survived']\n",
        "\n",
        "    train_X = df[columns_X]\n",
        "    train_y = df[columns_y]\n",
        "\n",
        "    # 建立 Logistic Regression 模型並進行交叉驗證\n",
        "    log = LogisticRegression(random_state=0, max_iter=3000)\n",
        "    scores = cross_val_score(log, train_X, train_y.values.ravel(), cv=5, scoring='accuracy')\n",
        "\n",
        "    return scores.mean()\n",
        "\n",
        "# --- 處理非數值型欄位 (此步驟對三種策略都一樣) ---\n",
        "# 刪除 Cabin 欄位\n",
        "df_train = df_train.drop('Cabin', axis=1)\n",
        "\n",
        "# 填補 Embarked 的遺失值，並進行 One-Hot Encoding\n",
        "df_train['Embarked'] = df_train['Embarked'].fillna(df_train['Embarked'].mode()[0])\n",
        "df_train = pd.get_dummies(df_train, columns=['Embarked'], drop_first=True)\n",
        "\n",
        "# 將 Sex 轉換為數值\n",
        "df_train['Sex'] = df_train['Sex'].map({'female': 0, 'male': 1}).astype(int)\n",
        "\n",
        "# --- 開始測試不同的填補策略 ---\n",
        "\n",
        "# 策略一：使用中位數填補 Age 和 Fare\n",
        "df_median_fill = df_train.copy()\n",
        "df_median_fill['Age'] = df_median_fill['Age'].fillna(df_median_fill['Age'].median())\n",
        "df_median_fill['Fare'] = df_median_fill['Fare'].fillna(df_median_fill['Fare'].median())\n",
        "median_score = evaluate_model(df_median_fill)\n",
        "print(f\"使用中位數填補的平均準確度: {median_score:.4f}\")\n",
        "\n",
        "# 策略二：使用平均數填補 Age 和 Fare\n",
        "df_mean_fill = df_train.copy()\n",
        "df_mean_fill['Age'] = df_mean_fill['Age'].fillna(df_mean_fill['Age'].mean())\n",
        "df_mean_fill['Fare'] = df_mean_fill['Fare'].fillna(df_mean_fill['Fare'].mean())\n",
        "mean_score = evaluate_model(df_mean_fill)\n",
        "print(f\"使用平均數填補的平均準確度: {mean_score:.4f}\")\n",
        "\n",
        "# 策略三：使用常數 0 填補 Age 和 Fare\n",
        "df_constant_fill = df_train.copy()\n",
        "df_constant_fill['Age'] = df_constant_fill['Age'].fillna(0)\n",
        "df_constant_fill['Fare'] = df_constant_fill['Fare'].fillna(0)\n",
        "constant_score = evaluate_model(df_constant_fill)\n",
        "print(f\"使用常數 0 填補的平均準確度: {constant_score:.4f}\")\n",
        "\n",
        "\n",
        "\n"
      ],
      "metadata": {
        "colab": {
          "base_uri": "https://localhost:8080/"
        },
        "id": "BU7-R_D8erlY",
        "outputId": "cba06f24-77ef-41cd-cc99-abaeeb85379f"
      },
      "execution_count": null,
      "outputs": [
        {
          "output_type": "stream",
          "name": "stdout",
          "text": [
            "使用中位數填補的平均準確度: 0.7912\n",
            "使用平均數填補的平均準確度: 0.7890\n",
            "使用常數 0 填補的平均準確度: 0.7845\n"
          ]
        }
      ]
    },
    {
      "cell_type": "code",
      "source": [
        "import pandas as pd\n",
        "from sklearn.linear_model import LogisticRegression\n",
        "from sklearn.model_selection import cross_val_score\n",
        "from sklearn.preprocessing import LabelEncoder\n",
        "\n",
        "# 載入資料集\n",
        "df_train = pd.read_csv('https://raw.githubusercontent.com/dsindy/kaggle-titanic/master/data/train.csv')\n",
        "\n",
        "# --- 定義評估模型準確度的函式 ---\n",
        "def evaluate_model(df):\n",
        "    \"\"\"\n",
        "    這個函式會接收一個 DataFrame，並使用交叉驗證評估 Logistic Regression 模型的準確度。\n",
        "    \"\"\"\n",
        "    # 選擇特徵欄位和目標欄位\n",
        "    columns_X = df.drop(['PassengerId', 'Name', 'Ticket', 'Survived'], axis=1).columns\n",
        "    columns_y = ['Survived']\n",
        "\n",
        "    train_X = df[columns_X]\n",
        "    train_y = df[columns_y]\n",
        "\n",
        "    # 建立 Logistic Regression 模型並進行交叉驗證\n",
        "    log = LogisticRegression(random_state=0, max_iter=3000)\n",
        "    scores = cross_val_score(log, train_X, train_y.values.ravel(), cv=5, scoring='accuracy')\n",
        "\n",
        "    return scores.mean()\n",
        "\n",
        "# --- 處理缺失值 (此步驟對兩種策略都一樣) ---\n",
        "# 填補 Age 和 Fare 的遺失值\n",
        "df_train['Age'] = df_train['Age'].fillna(df_train['Age'].median())\n",
        "df_train['Fare'] = df_train['Fare'].fillna(df_train['Fare'].median())\n",
        "df_train['Embarked'] = df_train['Embarked'].fillna(df_train['Embarked'].mode()[0])\n",
        "\n",
        "# 刪除 Cabin 欄位\n",
        "df_train = df_train.drop('Cabin', axis=1)\n",
        "\n",
        "# --- 開始測試不同的編碼策略 ---\n",
        "\n",
        "# 策略一：使用 One-Hot Encoding\n",
        "df_onehot = df_train.copy()\n",
        "df_onehot = pd.get_dummies(df_onehot, columns=['Sex', 'Embarked'], drop_first=True)\n",
        "onehot_score = evaluate_model(df_onehot)\n",
        "print(f\"使用 One-Hot Encoding 的平均準確度: {onehot_score:.4f}\")\n",
        "\n",
        "# 策略二：使用 Label Encoding\n",
        "df_label = df_train.copy()\n",
        "le = LabelEncoder()\n",
        "df_label['Sex'] = le.fit_transform(df_label['Sex'])\n",
        "df_label['Embarked'] = le.fit_transform(df_label['Embarked'])\n",
        "label_score = evaluate_model(df_label)\n",
        "print(f\"使用 Label Encoding 的平均準確度: {label_score:.4f}\")"
      ],
      "metadata": {
        "colab": {
          "base_uri": "https://localhost:8080/"
        },
        "id": "nQxUy4TOf6vq",
        "outputId": "d35af210-f5d9-4f4a-8c65-60c159d555ee"
      },
      "execution_count": null,
      "outputs": [
        {
          "output_type": "stream",
          "name": "stdout",
          "text": [
            "使用 One-Hot Encoding 的平均準確度: 0.7912\n",
            "使用 Label Encoding 的平均準確度: 0.7890\n"
          ]
        }
      ]
    },
    {
      "cell_type": "code",
      "source": [
        "import pandas as pd\n",
        "from sklearn.linear_model import LogisticRegression\n",
        "from sklearn.model_selection import cross_val_score\n",
        "\n",
        "# 載入資料集\n",
        "df_train = pd.read_csv('https://raw.githubusercontent.com/dsindy/kaggle-titanic/master/data/train.csv')\n",
        "\n",
        "# --- 1. 資料前處理 ---\n",
        "\n",
        "# 填補 Age、Fare 和 Embarked 的遺失值\n",
        "df_train['Age'] = df_train['Age'].fillna(df_train['Age'].median())\n",
        "df_train['Fare'] = df_train['Fare'].fillna(df_train['Fare'].median())\n",
        "df_train['Embarked'] = df_train['Embarked'].fillna(df_train['Embarked'].mode()[0])\n",
        "\n",
        "# 刪除 Cabin 欄位\n",
        "df_train = df_train.drop('Cabin', axis=1)\n",
        "\n",
        "# --- 2. 特徵工程 ---\n",
        "\n",
        "# 從 Name 欄位提取稱謂 (Title)\n",
        "df_train['Title'] = df_train['Name'].str.extract(' ([A-Za-z]+)\\.', expand=False)\n",
        "common_titles = ['Mr', 'Miss', 'Mrs', 'Master', 'Dr']\n",
        "df_train['Title'] = df_train['Title'].apply(\n",
        "    lambda x: x if x in common_titles else 'Other'\n",
        ")\n",
        "\n",
        "# 建立家庭大小 (FamilySize) 特徵\n",
        "df_train['FamilySize'] = df_train['SibSp'] + df_train['Parch'] + 1\n",
        "\n",
        "# --- 3. 處理類別型變數 ---\n",
        "\n",
        "# 將 Sex、Embarked 和 Title 進行 One-Hot Encoding\n",
        "df_train = pd.get_dummies(df_train, columns=['Sex', 'Embarked', 'Title'], drop_first=True)\n",
        "\n",
        "# 刪除不再需要的原始欄位\n",
        "df_train = df_train.drop(['PassengerId', 'Name', 'Ticket'], axis=1)\n",
        "\n",
        "# --- 4. 模型訓練與評估 ---\n",
        "\n",
        "print (\"-\"*20)\n",
        "\n",
        "# 選擇特徵欄位和目標欄位\n",
        "target = 'Survived'\n",
        "# 這種列表生成式 (list comprehension) 的寫法會自動選取所有非目標變數的欄位\n",
        "features = [col for col in df_train.columns if col != target]\n",
        "\n",
        "train_X = df_train[features]\n",
        "train_y = df_train[target]\n",
        "\n",
        "log = LogisticRegression(random_state=0, max_iter=3000)\n",
        "scores = cross_val_score(log, train_X, train_y.values.ravel(), cv=5, scoring='accuracy')\n",
        "\n",
        "print(\"交叉驗證的準確度分數:\", scores)\n",
        "print(\"平均準確度:\", scores.mean())"
      ],
      "metadata": {
        "colab": {
          "base_uri": "https://localhost:8080/"
        },
        "id": "XTGgb6Wdh2x1",
        "outputId": "48cf8314-8df9-40c1-9d48-d56fb6182936"
      },
      "execution_count": null,
      "outputs": [
        {
          "output_type": "stream",
          "name": "stdout",
          "text": [
            "--------------------\n",
            "交叉驗證的準確度分數: [0.83240223 0.82022472 0.80337079 0.80337079 0.86516854]\n",
            "平均準確度: 0.8249074132195091\n"
          ]
        }
      ]
    }
  ]
}